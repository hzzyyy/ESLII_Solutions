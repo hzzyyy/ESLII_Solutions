{
 "cells": [
  {
   "cell_type": "markdown",
   "metadata": {},
   "source": [
    "# Ex. 8.1 Possitive definiteness of KL divergence"
   ]
  },
  {
   "cell_type": "markdown",
   "metadata": {},
   "source": [
    "First observe that function $1-\\ln X$ is a convex function of $X \\in (0, +\\infty)$, whose second derivative is $\\frac1{X^2}$.\n",
    "\n",
    "With Jensen's inequality we have:\n",
    "\n",
    "\\begin{align*}\n",
    "\\mathbb{E}_{q}\\left[1-\\ln\\frac{r\\left(Y\\right)}{q\\left(Y\\right)}\\right] & \\ge1-\\ln\\mathbb{E}_{q}\\left[\\frac{r\\left(Y\\right)}{q\\left(Y\\right)}\\right]\\\\\n",
    "\\text{by change of measure} & =1-\\ln\\mathbb{E}_{r}\\left[\\frac{r\\left(Y\\right)}{q\\left(Y\\right)}\\cdot\\frac{q\\left(Y\\right)}{r\\left(Y\\right)}\\right]\\\\\n",
    " & =1-\\ln\\mathbb{E}_{r}\\left[1\\right]\\\\\n",
    " & =1\\\\\n",
    "\\Rightarrow1-\\mathbb{E}_{q}\\left[\\ln\\frac{r\\left(Y\\right)}{q\\left(Y\\right)}\\right] & \\ge1\\\\\n",
    "\\Rightarrow\\mathbb{E}_{q}\\left[\\ln\\frac{r\\left(Y\\right)}{q\\left(Y\\right)}\\right] & \\le0\\\\\n",
    "\\Rightarrow\\mathbb{E}_{q}\\left[\\ln\\frac{q\\left(Y\\right)}{r\\left(Y\\right)}\\right] & \\ge0.\n",
    "\\end{align*}\n",
    "\n",
    "The equalitys hold if and only if $r(y) = q(y)$.\n",
    "\n",
    "Also note that, $\\mathbb{E}_{q}\\left[\\ln\\frac{q\\left(Y\\right)}{r\\left(Y\\right)}\\right]$ is the definition of KL divergence from distribution $q$ to $r$."
   ]
  }
 ],
 "metadata": {
  "kernelspec": {
   "display_name": "Python 3",
   "language": "python",
   "name": "python3"
  },
  "language_info": {
   "codemirror_mode": {
    "name": "ipython",
    "version": 3
   },
   "file_extension": ".py",
   "mimetype": "text/x-python",
   "name": "python",
   "nbconvert_exporter": "python",
   "pygments_lexer": "ipython3",
   "version": "3.7.5"
  }
 },
 "nbformat": 4,
 "nbformat_minor": 2
}
