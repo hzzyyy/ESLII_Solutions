{
 "cells": [
  {
   "cell_type": "markdown",
   "metadata": {},
   "source": [
    "# Ex. 10.1 "
   ]
  },
  {
   "cell_type": "markdown",
   "metadata": {},
   "source": [
    "With $G_m$ plugged in (10.11), the objective we want to minimize becomes:\n",
    "\n",
    "\\begin{align*}\n",
    " & \\left(e^{\\beta}-e^{-\\beta}\\right)\\cdot\\Sigma_{i=1}^{N}w_{i}^{\\left(m\\right)}I\\left(y_{i}\\ne G_{m}\\left(x_{i}\\right)\\right)+e^{-\\beta}\\cdot\\Sigma_{i=1}^{N}w_{i}^{\\left(m\\right)}\\\\\n",
    "= & \\Sigma_{i=1}^{N}w_{i}^{\\left(m\\right)}\\left(\\left(e^{\\beta}-e^{-\\beta}\\right)\\frac{\\Sigma_{i=1}^{N}w_{i}^{\\left(m\\right)}I\\left(y_{i}\\ne G_{m}\\left(x_{i}\\right)\\right)}{\\Sigma_{i=1}^{N}w_{i}^{\\left(m\\right)}}+e^{-\\beta}\\right)\\\\\n",
    "= & \\left(\\left(e^{\\beta}-e^{-\\beta}\\right)\\mbox{err}_{m}+e^{-\\beta}\\right)\\Sigma_{i=1}^{N}w_{i}^{\\left(m\\right)}.\n",
    "\\end{align*}\n",
    "\n",
    "The minimizing $\\beta$ is:\n",
    "\n",
    "\\begin{align*}\n",
    "\\arg\\min_{\\beta} & \\left\\{ \\left(\\left(e^{\\beta}-e^{-\\beta}\\right)\\mbox{err}_{m}+e^{-\\beta}\\right)\\Sigma_{i=1}^{N}w_{i}^{\\left(m\\right)}\\right\\} \\\\\n",
    "=\\arg\\min_{\\beta} & \\left\\{ \\left(e^{\\beta}-e^{-\\beta}\\right)\\mbox{err}_{m}+e^{-\\beta}\\right\\} \\\\\n",
    "=\\arg\\min_{\\beta} & \\left\\{ \\mbox{err}_{m}e^{\\beta}+\\left(1-\\mbox{err}_{m}\\right)e^{-\\beta}\\right\\} .\n",
    "\\end{align*}\n",
    "\n",
    "Both $e^{\\beta}$ and $e^{-\\beta}$ are convex function, and both $\\mbox{err}_{m}$ and $1-\\mbox{err}_{m}$ are positive, so the objective function is convex. The minimizer is just the root of the derivate:\n",
    "\n",
    "\\begin{align*}\n",
    "0 & =\\mbox{err}_{m}e^{\\beta_{m}}-\\left(1-\\mbox{err}_{m}\\right)e^{-\\beta_{m}}\\\\\n",
    "\\Rightarrow\\mbox{err}_{m}e^{2\\beta_{m}} & =1-\\mbox{err}_{m}\\\\\n",
    "\\Rightarrow e^{2\\beta_{m}} & =\\frac{1-\\mbox{err}_{m}}{\\mbox{err}_{m}}\\\\\n",
    "\\Rightarrow\\beta_{m} & =\\frac{1}{2}\\ln\\frac{1-\\mbox{err}_{m}}{\\mbox{err}_{m}}.\n",
    "\\end{align*}\n"
   ]
  },
  {
   "cell_type": "markdown",
   "metadata": {},
   "source": [
    "# Ex. 10.2"
   ]
  },
  {
   "cell_type": "markdown",
   "metadata": {},
   "source": [
    "\\begin{align*}\n",
    "f^{*}\\left(x\\right) & =\\arg\\min_{f\\left(x\\right)}\\quad\\mathbb{E}_{Y|x}\\left(e^{-Yf\\left(x\\right)}\\right)\\\\\n",
    " & =\\arg\\min_{f\\left(x\\right)}\\quad\\left\\{ \\mbox{Pr}\\left(Y=1|x\\right)e^{-f\\left(x\\right)}+\\mbox{Pr}\\left(Y=-1|x\\right)e^{f\\left(x\\right)}\\right\\} .\n",
    "\\end{align*}\n",
    "\n",
    "The objective function is obviously convex, so by setting the first derivative with respect to $f(x)$ to zero, we have:\n",
    "\n",
    "\\begin{align*}\n",
    "0 & =-\\mbox{Pr}\\left(Y=1|x\\right)e^{-f^{*}\\left(x\\right)}+\\mbox{Pr}\\left(Y=-1|x\\right)e^{f^{*}\\left(x\\right)}\\\\\n",
    "\\Rightarrow\\mbox{Pr}\\left(Y=1|x\\right)e^{-f^{*}\\left(x\\right)} & =\\mbox{Pr}\\left(Y=-1|x\\right)e^{f^{*}\\left(x\\right)}\\\\\n",
    "\\Rightarrow\\mbox{Pr}\\left(Y=1|x\\right) & =\\mbox{Pr}\\left(Y=-1|x\\right)e^{2f^{*}\\left(x\\right)}\\\\\n",
    "\\Rightarrow f^{*}\\left(x\\right) & =\\frac{1}{2}\\ln\\frac{\\mbox{Pr}\\left(Y=1|x\\right)}{\\mbox{Pr}\\left(Y=-1|x\\right)}.\n",
    "\\end{align*}\n"
   ]
  },
  {
   "cell_type": "markdown",
   "metadata": {},
   "source": [
    "# Ex. 10.3"
   ]
  },
  {
   "cell_type": "markdown",
   "metadata": {},
   "source": [
    "Marginal average (10.47): \n",
    "\n",
    "$f_{\\mathcal{S}}\\left(X_{\\mathcal{S}}\\right)=\\mathbb{E}_{X_{\\mathcal{C}}}f\\left(X_{\\mathcal{S}},X_{\\mathcal{C}}\\right)=\\int f\\left(X_{\\mathcal{S}},X_{\\mathcal{C}}\\right)\\text{d}\\mathbb{P}\\left(X_{\\mathcal{C}}\\right).$\n",
    "\n",
    "Conditional expectation (10.49):\n",
    "\n",
    "$\\tilde{f}_{\\mathcal{S}}\\left(X_{\\mathcal{S}}\\right)=\\mathbb{E}\\left(\\left.f\\left(X_{\\mathcal{S}},X_{\\mathcal{C}}\\right)\\right|X_{\\mathcal{S}}\\right)=\\int f\\left(X_{\\mathcal{S}},X_{\\mathcal{C}}\\right)\\text{d}\\mathbb{P}\\left(\\left.X_{\\mathcal{C}}\\right|X_{\\mathcal{S}}\\right).$\n",
    "\n",
    "Apparently, $\\mathbb{P}\\left(X_{\\mathcal{C}}\\right)\\ne\\mathbb{P}\\left(\\left.X_{\\mathcal{C}}\\right|X_{\\mathcal{S}}\\right)$\n",
    "unless $X_{\\mathcal{C}}$ and $X_{\\mathcal{S}}$ are indepedent.  \n",
    "\n"
   ]
  },
  {
   "cell_type": "markdown",
   "metadata": {},
   "source": [
    "For additive function (10.50):\n",
    "\n",
    "\\begin{align*}\n",
    "f_{\\mathcal{S}}\\left(X_{\\mathcal{S}}\\right) & =\\int\\left(h_{1}\\left(X_{\\mathcal{S}}\\right)+h_{2}\\left(X_{\\mathcal{C}}\\right)\\right)\\text{d}\\mathbb{P}\\left(X_{\\mathcal{C}}\\right)\\\\\n",
    " & =h_{1}\\left(X_{\\mathcal{S}}\\right)\\int\\text{d}\\mathbb{P}\\left(X_{\\mathcal{C}}\\right)+\\int h_{2}\\left(X_{\\mathcal{C}}\\right)\\text{d}\\mathbb{P}\\left(X_{\\mathcal{C}}\\right)\\\\\n",
    " & =h_{1}\\left(X_{\\mathcal{S}}\\right)+\\mathbb{E}\\left[h_{2}\\left(X_{\\mathcal{C}}\\right)\\right],\\\\\n",
    "\\tilde{f}_{\\mathcal{S}}\\left(X_{\\mathcal{S}}\\right) & =\\int\\left(h_{1}\\left(X_{\\mathcal{S}}\\right)+h_{2}\\left(X_{\\mathcal{C}}\\right)\\right)\\text{d}\\mathbb{P}\\left(\\left.X_{\\mathcal{C}}\\right|X_{\\mathcal{S}}\\right)\\\\\n",
    " & =h_{1}\\left(X_{\\mathcal{S}}\\right)\\int\\text{d}\\mathbb{P}\\left(\\left.X_{\\mathcal{C}}\\right|X_{\\mathcal{S}}\\right)+\\int h_{2}\\left(X_{\\mathcal{C}}\\right)\\text{d}\\mathbb{P}\\left(\\left.X_{\\mathcal{C}}\\right|X_{\\mathcal{S}}\\right)\\\\\n",
    " & =h_{1}\\left(X_{\\mathcal{S}}\\right)+\\mathbb{E}\\left[\\left.h_{2}\\left(X_{\\mathcal{C}}\\right)\\right|X_{\\mathcal{S}}\\right].\n",
    "\\end{align*}\n",
    "\n",
    "\n",
    "As we can see, $\\mathbb{E}\\left[h_{2}\\left(X_{\\mathcal{C}}\\right)\\right]$ is a constant, but $\\mathbb{E}\\left[\\left.h_{2}\\left(X_{\\mathcal{C}}\\right)\\right|X_{\\mathcal{S}}\\right]$ is a function of $X_{\\mathcal{S}}$.\n",
    "Therfore, $f_{\\mathcal{S}}\\left(X_{\\mathcal{S}}\\right)$ produces the $h_{1}\\left(X_{\\mathcal{S}}\\right)$ up to an additive constant, but $\\tilde{f}_{\\mathcal{S}}\\left(X_{\\mathcal{S}}\\right)$ cannot.\n",
    "\n",
    "Simiarly, for multiplicative function (10.51):\n",
    "\n",
    "\\begin{align*}\n",
    "f_{\\mathcal{S}}\\left(X_{\\mathcal{S}}\\right) & =\\int h_{1}\\left(X_{\\mathcal{S}}\\right)\\cdot h_{2}\\left(X_{\\mathcal{C}}\\right)\\text{d}\\mathbb{P}\\left(X_{\\mathcal{C}}\\right)\\\\\n",
    " & =h_{1}\\left(X_{\\mathcal{S}}\\right)\\cdot\\int h_{2}\\left(X_{\\mathcal{C}}\\right)\\text{d}\\mathbb{P}\\left(X_{\\mathcal{C}}\\right)\\\\\n",
    " & =h_{1}\\left(X_{\\mathcal{S}}\\right)\\cdot\\mathbb{E}\\left[h_{2}\\left(X_{\\mathcal{C}}\\right)\\right],\\\\\n",
    "\\tilde{f}_{\\mathcal{S}}\\left(X_{\\mathcal{S}}\\right) & =\\int h_{1}\\left(X_{\\mathcal{S}}\\right)\\cdot h_{2}\\left(X_{\\mathcal{C}}\\right)\\text{d}\\mathbb{P}\\left(\\left.X_{\\mathcal{C}}\\right|X_{\\mathcal{S}}\\right)\\\\\n",
    " & =h_{1}\\left(X_{\\mathcal{S}}\\right)\\cdot\\int h_{2}\\left(X_{\\mathcal{C}}\\right)\\text{d}\\mathbb{P}\\left(\\left.X_{\\mathcal{C}}\\right|X_{\\mathcal{S}}\\right)\\\\\n",
    " & =h_{1}\\left(X_{\\mathcal{S}}\\right)\\cdot\\mathbb{E}\\left[\\left.h_{2}\\left(X_{\\mathcal{C}}\\right)\\right|X_{\\mathcal{S}}\\right].\n",
    "\\end{align*}\n",
    "\n",
    "$f_{\\mathcal{S}}\\left(X_{\\mathcal{S}}\\right)$ produces $h_{1}\\left(X_{\\mathcal{S}}\\right)$ up to a multiplicatie constant, but $\\tilde{f}_{\\mathcal{S}}\\left(X_{\\mathcal{S}}\\right)$ cannot."
   ]
  }
 ],
 "metadata": {
  "kernelspec": {
   "display_name": "Python 3",
   "language": "python",
   "name": "python3"
  },
  "language_info": {
   "codemirror_mode": {
    "name": "ipython",
    "version": 3
   },
   "file_extension": ".py",
   "mimetype": "text/x-python",
   "name": "python",
   "nbconvert_exporter": "python",
   "pygments_lexer": "ipython3",
   "version": "3.7.5"
  }
 },
 "nbformat": 4,
 "nbformat_minor": 2
}
