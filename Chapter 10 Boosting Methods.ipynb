{
 "cells": [
  {
   "cell_type": "markdown",
   "metadata": {},
   "source": [
    "# Ex. 10.1 "
   ]
  },
  {
   "cell_type": "markdown",
   "metadata": {},
   "source": [
    "With $G_m$ plugged in (10.11), the objective we want to minimize becomes:\n",
    "\n",
    "\\begin{align*}\n",
    " & \\left(e^{\\beta}-e^{-\\beta}\\right)\\cdot\\Sigma_{i=1}^{N}w_{i}^{\\left(m\\right)}I\\left(y_{i}\\ne G_{m}\\left(x_{i}\\right)\\right)+e^{-\\beta}\\cdot\\Sigma_{i=1}^{N}w_{i}^{\\left(m\\right)}\\\\\n",
    "= & \\Sigma_{i=1}^{N}w_{i}^{\\left(m\\right)}\\left(\\left(e^{\\beta}-e^{-\\beta}\\right)\\frac{\\Sigma_{i=1}^{N}w_{i}^{\\left(m\\right)}I\\left(y_{i}\\ne G_{m}\\left(x_{i}\\right)\\right)}{\\Sigma_{i=1}^{N}w_{i}^{\\left(m\\right)}}+e^{-\\beta}\\right)\\\\\n",
    "= & \\left(\\left(e^{\\beta}-e^{-\\beta}\\right)\\mbox{err}_{m}+e^{-\\beta}\\right)\\Sigma_{i=1}^{N}w_{i}^{\\left(m\\right)}.\n",
    "\\end{align*}\n",
    "\n",
    "The minimizing $\\beta$ is:\n",
    "\n",
    "\\begin{align*}\n",
    "\\arg\\min_{\\beta} & \\left\\{ \\left(\\left(e^{\\beta}-e^{-\\beta}\\right)\\mbox{err}_{m}+e^{-\\beta}\\right)\\Sigma_{i=1}^{N}w_{i}^{\\left(m\\right)}\\right\\} \\\\\n",
    "=\\arg\\min_{\\beta} & \\left\\{ \\left(e^{\\beta}-e^{-\\beta}\\right)\\mbox{err}_{m}+e^{-\\beta}\\right\\} \\\\\n",
    "=\\arg\\min_{\\beta} & \\left\\{ \\mbox{err}_{m}e^{\\beta}+\\left(1-\\mbox{err}_{m}\\right)e^{-\\beta}\\right\\} .\n",
    "\\end{align*}\n",
    "\n",
    "Both $e^{\\beta}$ and $e^{-\\beta}$ are convex function, and both $\\mbox{err}_{m}$ and $1-\\mbox{err}_{m}$ are positive, so the objective function is convex. The minimizer is just the root of the derivate:\n",
    "\n",
    "\\begin{align*}\n",
    "0 & =\\mbox{err}_{m}e^{\\beta_{m}}-\\left(1-\\mbox{err}_{m}\\right)e^{-\\beta_{m}}\\\\\n",
    "\\Rightarrow\\mbox{err}_{m}e^{2\\beta_{m}} & =1-\\mbox{err}_{m}\\\\\n",
    "\\Rightarrow e^{2\\beta_{m}} & =\\frac{1-\\mbox{err}_{m}}{\\mbox{err}_{m}}\\\\\n",
    "\\Rightarrow\\beta_{m} & =\\frac{1}{2}\\ln\\frac{1-\\mbox{err}_{m}}{\\mbox{err}_{m}}.\n",
    "\\end{align*}\n"
   ]
  },
  {
   "cell_type": "markdown",
   "metadata": {},
   "source": [
    "# Ex. 10.2"
   ]
  },
  {
   "cell_type": "markdown",
   "metadata": {},
   "source": [
    "\\begin{align*}\n",
    "f^{*}\\left(x\\right) & =\\arg\\min_{f\\left(x\\right)}\\quad\\mathbb{E}_{Y|x}\\left(e^{-Yf\\left(x\\right)}\\right)\\\\\n",
    " & =\\arg\\min_{f\\left(x\\right)}\\quad\\left\\{ \\mbox{Pr}\\left(Y=1|x\\right)e^{-f\\left(x\\right)}+\\mbox{Pr}\\left(Y=-1|x\\right)e^{f\\left(x\\right)}\\right\\} .\n",
    "\\end{align*}\n",
    "\n",
    "The objective function is obvious convex, so by setting the first derivative with respect to $f(x)$ to zero, we have:\n",
    "\n",
    "\\begin{align*}\n",
    "0 & =-\\mbox{Pr}\\left(Y=1|x\\right)e^{-f^{*}\\left(x\\right)}+\\mbox{Pr}\\left(Y=-1|x\\right)e^{f^{*}\\left(x\\right)}\\\\\n",
    "\\Rightarrow\\mbox{Pr}\\left(Y=1|x\\right)e^{-f^{*}\\left(x\\right)} & =\\mbox{Pr}\\left(Y=-1|x\\right)e^{f^{*}\\left(x\\right)}\\\\\n",
    "\\Rightarrow\\mbox{Pr}\\left(Y=1|x\\right) & =\\mbox{Pr}\\left(Y=-1|x\\right)e^{2f^{*}\\left(x\\right)}\\\\\n",
    "\\Rightarrow f^{*}\\left(x\\right) & =\\frac{1}{2}\\ln\\frac{\\mbox{Pr}\\left(Y=1|x\\right)}{\\mbox{Pr}\\left(Y=-1|x\\right)}.\n",
    "\\end{align*}\n"
   ]
  },
  {
   "cell_type": "code",
   "execution_count": null,
   "metadata": {},
   "outputs": [],
   "source": []
  }
 ],
 "metadata": {
  "kernelspec": {
   "display_name": "Python 3",
   "language": "python",
   "name": "python3"
  },
  "language_info": {
   "codemirror_mode": {
    "name": "ipython",
    "version": 3
   },
   "file_extension": ".py",
   "mimetype": "text/x-python",
   "name": "python",
   "nbconvert_exporter": "python",
   "pygments_lexer": "ipython3",
   "version": "3.7.5"
  }
 },
 "nbformat": 4,
 "nbformat_minor": 2
}
